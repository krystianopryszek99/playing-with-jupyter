{
 "cells": [
  {
   "cell_type": "code",
   "execution_count": 1,
   "id": "3d469dc6-336f-47c9-91b7-0f53d1e3cf6d",
   "metadata": {},
   "outputs": [],
   "source": [
    "i = 1\n",
    "j = 2\n",
    "k = i+ j"
   ]
  },
  {
   "cell_type": "code",
   "execution_count": 2,
   "id": "5a773782-2f77-4be8-87b5-86dc13064eaa",
   "metadata": {},
   "outputs": [
    {
     "data": {
      "text/plain": [
       "3"
      ]
     },
     "execution_count": 2,
     "metadata": {},
     "output_type": "execute_result"
    }
   ],
   "source": [
    "k "
   ]
  },
  {
   "cell_type": "markdown",
   "id": "3df2918f-2e9a-4d39-bb25-511d4eef6295",
   "metadata": {},
   "source": [
    "# This is Markdown Heading\n",
    "\n",
    "**Bold text**\n",
    "\n",
    "- List 1\n",
    "- List 2\n",
    "- List 3\n",
    "\n",
    "![](https://www.gmit.ie/sites/default/files/public/styles/advert/public/images/home/feature-box-springboard.jpg?itok=awsAFrjx)"
   ]
  },
  {
   "cell_type": "code",
   "execution_count": null,
   "id": "06a1a472-8192-4467-9378-cf267065f0dd",
   "metadata": {},
   "outputs": [],
   "source": []
  }
 ],
 "metadata": {
  "kernelspec": {
   "display_name": "Python 3",
   "language": "python",
   "name": "python3"
  },
  "language_info": {
   "codemirror_mode": {
    "name": "ipython",
    "version": 3
   },
   "file_extension": ".py",
   "mimetype": "text/x-python",
   "name": "python",
   "nbconvert_exporter": "python",
   "pygments_lexer": "ipython3",
   "version": "3.8.8"
  }
 },
 "nbformat": 4,
 "nbformat_minor": 5
}
